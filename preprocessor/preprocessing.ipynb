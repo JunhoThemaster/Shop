{
 "cells": [
  {
   "cell_type": "code",
   "execution_count": 24,
   "id": "abd9786f",
   "metadata": {},
   "outputs": [],
   "source": [
    "import pandas as pd\n",
    "from datetime import datetime\n",
    "\n",
    "\n",
    "df = pd.read_csv(\"../data/garry_reviews.csv\")"
   ]
  },
  {
   "cell_type": "code",
   "execution_count": 25,
   "id": "657a4929",
   "metadata": {},
   "outputs": [
    {
     "data": {
      "text/html": [
       "<div>\n",
       "<style scoped>\n",
       "    .dataframe tbody tr th:only-of-type {\n",
       "        vertical-align: middle;\n",
       "    }\n",
       "\n",
       "    .dataframe tbody tr th {\n",
       "        vertical-align: top;\n",
       "    }\n",
       "\n",
       "    .dataframe thead th {\n",
       "        text-align: right;\n",
       "    }\n",
       "</style>\n",
       "<table border=\"1\" class=\"dataframe\">\n",
       "  <thead>\n",
       "    <tr style=\"text-align: right;\">\n",
       "      <th></th>\n",
       "      <th>index</th>\n",
       "      <th>recommend</th>\n",
       "      <th>content</th>\n",
       "      <th>datetime</th>\n",
       "    </tr>\n",
       "  </thead>\n",
       "  <tbody>\n",
       "    <tr>\n",
       "      <th>0</th>\n",
       "      <td>1</td>\n",
       "      <td>True</td>\n",
       "      <td>l</td>\n",
       "      <td>2025-07-13 14:21:22</td>\n",
       "    </tr>\n",
       "    <tr>\n",
       "      <th>1</th>\n",
       "      <td>2</td>\n",
       "      <td>True</td>\n",
       "      <td>왜 이렇게 많이 했지</td>\n",
       "      <td>2025-07-13 11:08:40</td>\n",
       "    </tr>\n",
       "    <tr>\n",
       "      <th>2</th>\n",
       "      <td>3</td>\n",
       "      <td>True</td>\n",
       "      <td>풍자 입니다 굿 이게임 사세요</td>\n",
       "      <td>2025-07-13 02:45:35</td>\n",
       "    </tr>\n",
       "    <tr>\n",
       "      <th>3</th>\n",
       "      <td>4</td>\n",
       "      <td>True</td>\n",
       "      <td>친구가 없는데 게임을 어케 하냐구</td>\n",
       "      <td>2025-07-12 17:26:44</td>\n",
       "    </tr>\n",
       "    <tr>\n",
       "      <th>4</th>\n",
       "      <td>5</td>\n",
       "      <td>True</td>\n",
       "      <td>wow</td>\n",
       "      <td>2025-07-12 06:13:15</td>\n",
       "    </tr>\n",
       "    <tr>\n",
       "      <th>...</th>\n",
       "      <td>...</td>\n",
       "      <td>...</td>\n",
       "      <td>...</td>\n",
       "      <td>...</td>\n",
       "    </tr>\n",
       "    <tr>\n",
       "      <th>1795</th>\n",
       "      <td>1796</td>\n",
       "      <td>True</td>\n",
       "      <td>친구만 있다면 개꿀잼</td>\n",
       "      <td>2022-07-06 09:51:09</td>\n",
       "    </tr>\n",
       "    <tr>\n",
       "      <th>1796</th>\n",
       "      <td>1797</td>\n",
       "      <td>True</td>\n",
       "      <td>정신병자 수용소</td>\n",
       "      <td>2022-07-06 05:47:44</td>\n",
       "    </tr>\n",
       "    <tr>\n",
       "      <th>1797</th>\n",
       "      <td>1798</td>\n",
       "      <td>False</td>\n",
       "      <td>플레이 할라했는데 게임단어들이 네모로 오류 떠서 게임 안됨;;</td>\n",
       "      <td>2022-07-05 08:35:33</td>\n",
       "    </tr>\n",
       "    <tr>\n",
       "      <th>1798</th>\n",
       "      <td>1799</td>\n",
       "      <td>True</td>\n",
       "      <td>rnt\\n굿</td>\n",
       "      <td>2022-07-03 12:27:41</td>\n",
       "    </tr>\n",
       "    <tr>\n",
       "      <th>1799</th>\n",
       "      <td>1800</td>\n",
       "      <td>True</td>\n",
       "      <td>ZZZZZ</td>\n",
       "      <td>2022-07-02 14:18:17</td>\n",
       "    </tr>\n",
       "  </tbody>\n",
       "</table>\n",
       "<p>1800 rows × 4 columns</p>\n",
       "</div>"
      ],
      "text/plain": [
       "      index  recommend                             content  \\\n",
       "0         1       True                                   l   \n",
       "1         2       True                         왜 이렇게 많이 했지   \n",
       "2         3       True                    풍자 입니다 굿 이게임 사세요   \n",
       "3         4       True                  친구가 없는데 게임을 어케 하냐구   \n",
       "4         5       True                                 wow   \n",
       "...     ...        ...                                 ...   \n",
       "1795   1796       True                         친구만 있다면 개꿀잼   \n",
       "1796   1797       True                            정신병자 수용소   \n",
       "1797   1798      False  플레이 할라했는데 게임단어들이 네모로 오류 떠서 게임 안됨;;   \n",
       "1798   1799       True                              rnt\\n굿   \n",
       "1799   1800       True                               ZZZZZ   \n",
       "\n",
       "                 datetime  \n",
       "0     2025-07-13 14:21:22  \n",
       "1     2025-07-13 11:08:40  \n",
       "2     2025-07-13 02:45:35  \n",
       "3     2025-07-12 17:26:44  \n",
       "4     2025-07-12 06:13:15  \n",
       "...                   ...  \n",
       "1795  2022-07-06 09:51:09  \n",
       "1796  2022-07-06 05:47:44  \n",
       "1797  2022-07-05 08:35:33  \n",
       "1798  2022-07-03 12:27:41  \n",
       "1799  2022-07-02 14:18:17  \n",
       "\n",
       "[1800 rows x 4 columns]"
      ]
     },
     "execution_count": 25,
     "metadata": {},
     "output_type": "execute_result"
    }
   ],
   "source": [
    "df"
   ]
  },
  {
   "cell_type": "code",
   "execution_count": 26,
   "id": "2ea92a57",
   "metadata": {},
   "outputs": [],
   "source": [
    "import pandas as pd\n",
    "import re\n",
    "\n",
    "def is_meaningful(text, min_len=5, max_space_ratio=0.7):\n",
    "    if not isinstance(text, str) or len(text.strip()) == 0:\n",
    "        return False\n",
    "    cleaned = re.sub(r\"\\s+\", \" \", text.strip())  # 여러 공백을 하나로 축소\n",
    "    total_len = len(cleaned)\n",
    "    space_count = cleaned.count(\" \")\n",
    "    \n",
    "    # 공백 비율과 최소 길이로 필터링\n",
    "    space_ratio = space_count / total_len if total_len > 0 else 1.0\n",
    "    return total_len >= min_len and space_ratio <= max_space_ratio\n",
    "\n",
    "# 사용 예시\n",
    "df[\"content\"] = df[\"content\"].fillna(\"\").astype(str)\n",
    "df = df[df[\"content\"].apply(is_meaningful)].copy()\n",
    "df[\"content\"] = df[\"content\"].str.strip().replace(r\"\\s+\", \" \", regex=True)\n"
   ]
  },
  {
   "cell_type": "code",
   "execution_count": 28,
   "id": "a7bf02ee",
   "metadata": {},
   "outputs": [],
   "source": [
    "\n",
    "df.to_csv(\"fixed_garry_review.csv\",encoding='utf-8')"
   ]
  },
  {
   "cell_type": "code",
   "execution_count": 30,
   "id": "0916d0f7",
   "metadata": {},
   "outputs": [],
   "source": [
    "df1 = pd.read_csv(\"../data/portal_reviews1.csv\")"
   ]
  },
  {
   "cell_type": "code",
   "execution_count": null,
   "id": "8a1545a0",
   "metadata": {},
   "outputs": [],
   "source": [
    "df1[\"content\"] = df1[\"content\"].fillna(\"\").astype(str)\n",
    "df1 = df1[df1[\"content\"].apply(is_meaningful)].copy()\n",
    "df1[\"content\"] = df1[\"content\"].str.strip().replace(r\"\\s+\",\" \",regex=True)"
   ]
  },
  {
   "cell_type": "code",
   "execution_count": 35,
   "id": "c56ef0bf",
   "metadata": {},
   "outputs": [],
   "source": [
    "df1.to_csv('fixed_portal_reviews.csv',encoding='utf-8')\n"
   ]
  },
  {
   "cell_type": "code",
   "execution_count": 1,
   "id": "0bf13a43",
   "metadata": {},
   "outputs": [
    {
     "data": {
      "text/plain": [
       "True"
      ]
     },
     "execution_count": 1,
     "metadata": {},
     "output_type": "execute_result"
    }
   ],
   "source": [
    "from dotenv import load_dotenv\n",
    "\n",
    "load_dotenv()"
   ]
  }
 ],
 "metadata": {
  "kernelspec": {
   "display_name": "shopvenv",
   "language": "python",
   "name": "python3"
  },
  "language_info": {
   "codemirror_mode": {
    "name": "ipython",
    "version": 3
   },
   "file_extension": ".py",
   "mimetype": "text/x-python",
   "name": "python",
   "nbconvert_exporter": "python",
   "pygments_lexer": "ipython3",
   "version": "3.12.9"
  }
 },
 "nbformat": 4,
 "nbformat_minor": 5
}
