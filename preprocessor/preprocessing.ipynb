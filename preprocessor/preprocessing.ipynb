{
 "cells": [
  {
   "cell_type": "code",
   "execution_count": 1,
   "id": "abd9786f",
   "metadata": {},
   "outputs": [],
   "source": [
    "import pandas as pd\n",
    "from datetime import datetime\n",
    "\n"
   ]
  },
  {
   "cell_type": "code",
   "execution_count": 2,
   "id": "2ea92a57",
   "metadata": {},
   "outputs": [],
   "source": [
    "import pandas as pd\n",
    "import re\n",
    "\n",
    "def is_meaningful(text, min_len=5, max_space_ratio=0.7):\n",
    "    if not isinstance(text, str) or len(text.strip()) == 0:\n",
    "        return False\n",
    "    cleaned = re.sub(r\"\\s+\", \" \", text.strip())  # 여러 공백을 하나로 축소\n",
    "    total_len = len(cleaned)\n",
    "    space_count = cleaned.count(\" \")\n",
    "    \n",
    "    # 공백 비율과 최소 길이로 필터링\n",
    "    space_ratio = space_count / total_len if total_len > 0 else 1.0\n",
    "    return total_len >= min_len and space_ratio <= max_space_ratio\n",
    "\n",
    "\n"
   ]
  },
  {
   "cell_type": "code",
   "execution_count": 22,
   "id": "8a1545a0",
   "metadata": {},
   "outputs": [],
   "source": [
    "def preprocessing(df):\n",
    "\n",
    "    df[\"content\"] = df[\"content\"].fillna(\"\").astype(str)\n",
    "    df = df[df[\"content\"].apply(is_meaningful)].copy()\n",
    "    df[\"content\"] = df[\"content\"].str.strip().replace(r\"\\s+\",\" \",regex=True)\n",
    "    return df"
   ]
  },
  {
   "cell_type": "code",
   "execution_count": 8,
   "id": "a9b8eaad",
   "metadata": {},
   "outputs": [
    {
     "data": {
      "text/plain": [
       "['C:\\\\Users\\\\main\\\\Documents\\\\Shop\\\\data\\\\review\\\\9 Kings 나인 킹즈_reviews.csv',\n",
       " 'C:\\\\Users\\\\main\\\\Documents\\\\Shop\\\\data\\\\review\\\\Apex 레전드™_reviews.csv',\n",
       " 'C:\\\\Users\\\\main\\\\Documents\\\\Shop\\\\data\\\\review\\\\Core Keeper_reviews.csv',\n",
       " 'C:\\\\Users\\\\main\\\\Documents\\\\Shop\\\\data\\\\review\\\\Counter-Strike 2_reviews.csv',\n",
       " 'C:\\\\Users\\\\main\\\\Documents\\\\Shop\\\\data\\\\review\\\\Dead by Daylight_reviews.csv',\n",
       " 'C:\\\\Users\\\\main\\\\Documents\\\\Shop\\\\data\\\\review\\\\DJMAX RESPECT V_reviews.csv',\n",
       " 'C:\\\\Users\\\\main\\\\Documents\\\\Shop\\\\data\\\\review\\\\ELDEN RING 밤의 통치자_reviews.csv',\n",
       " 'C:\\\\Users\\\\main\\\\Documents\\\\Shop\\\\data\\\\review\\\\Euro Truck Simulator 2_reviews.csv',\n",
       " 'C:\\\\Users\\\\main\\\\Documents\\\\Shop\\\\data\\\\review\\\\F1® 25_reviews.csv',\n",
       " 'C:\\\\Users\\\\main\\\\Documents\\\\Shop\\\\data\\\\review\\\\HELLDIVERS™ 2_reviews.csv',\n",
       " 'C:\\\\Users\\\\main\\\\Documents\\\\Shop\\\\data\\\\review\\\\PEAK_reviews.csv',\n",
       " 'C:\\\\Users\\\\main\\\\Documents\\\\Shop\\\\data\\\\review\\\\PUMP IT UP RISE_reviews.csv',\n",
       " 'C:\\\\Users\\\\main\\\\Documents\\\\Shop\\\\data\\\\review\\\\R.E.P.O._reviews.csv',\n",
       " 'C:\\\\Users\\\\main\\\\Documents\\\\Shop\\\\data\\\\review\\\\Red Dead Redemption 2_reviews.csv',\n",
       " 'C:\\\\Users\\\\main\\\\Documents\\\\Shop\\\\data\\\\review\\\\RimWorld - Biotech_reviews.csv',\n",
       " 'C:\\\\Users\\\\main\\\\Documents\\\\Shop\\\\data\\\\review\\\\RimWorld - Odyssey_reviews.csv',\n",
       " 'C:\\\\Users\\\\main\\\\Documents\\\\Shop\\\\data\\\\review\\\\RimWorld - Royalty_reviews.csv',\n",
       " 'C:\\\\Users\\\\main\\\\Documents\\\\Shop\\\\data\\\\review\\\\RimWorld_reviews.csv',\n",
       " 'C:\\\\Users\\\\main\\\\Documents\\\\Shop\\\\data\\\\review\\\\Satisfactory_reviews.csv',\n",
       " 'C:\\\\Users\\\\main\\\\Documents\\\\Shop\\\\data\\\\review\\\\Street Fighter 6_reviews.csv',\n",
       " 'C:\\\\Users\\\\main\\\\Documents\\\\Shop\\\\data\\\\review\\\\Warframe_reviews.csv',\n",
       " 'C:\\\\Users\\\\main\\\\Documents\\\\Shop\\\\data\\\\review\\\\World of Warships_reviews.csv',\n",
       " 'C:\\\\Users\\\\main\\\\Documents\\\\Shop\\\\data\\\\review\\\\데스티니 가디언즈_reviews.csv',\n",
       " 'C:\\\\Users\\\\main\\\\Documents\\\\Shop\\\\data\\\\review\\\\스텔라 블레이드™_reviews.csv',\n",
       " 'C:\\\\Users\\\\main\\\\Documents\\\\Shop\\\\data\\\\review\\\\어쌔신 크리드 섀도우스_reviews.csv',\n",
       " 'C:\\\\Users\\\\main\\\\Documents\\\\Shop\\\\data\\\\review\\\\이터널 리턴_reviews.csv',\n",
       " 'C:\\\\Users\\\\main\\\\Documents\\\\Shop\\\\data\\\\review\\\\쥬라기 월드 에볼루션 2_reviews.csv',\n",
       " 'C:\\\\Users\\\\main\\\\Documents\\\\Shop\\\\data\\\\review\\\\컨커러스 블레이드_reviews.csv']"
      ]
     },
     "execution_count": 8,
     "metadata": {},
     "output_type": "execute_result"
    }
   ],
   "source": [
    "import os\n",
    "data_dir = r'C:\\Users\\main\\Documents\\Shop\\data\\review'\n",
    "data_li = [os.path.join(data_dir, fname) \n",
    "           for fname in os.listdir(data_dir) if fname.endswith('.csv')]\n",
    "data_li"
   ]
  },
  {
   "cell_type": "code",
   "execution_count": 6,
   "id": "efb17834",
   "metadata": {},
   "outputs": [],
   "source": [
    "def safe_filename(name):\n",
    "    \"\"\"파일 이름에 쓸 수 없는 문자 제거\"\"\"\n",
    "    return re.sub(r'[\\\\/:*?\"<>|\\s]', '_', name)\n"
   ]
  },
  {
   "cell_type": "code",
   "execution_count": 9,
   "id": "e3725668",
   "metadata": {},
   "outputs": [],
   "source": [
    "import os\n",
    "for idx in range(len(data_li)):\n",
    "    path = data_li[idx]\n",
    "    df = pd.read_csv(path,encoding = \"utf-8\")\n",
    "    df = preprocessing(df)\n",
    "    \n",
    "    name = os.path.basename(path).replace('_reivews.csv','')\n",
    "    name = safe_filename(name)\n",
    "    \n",
    "    df.to_csv(f\"fixed_{name}_reviews.csv\",encoding=\"utf-8\",index=False)"
   ]
  },
  {
   "cell_type": "code",
   "execution_count": 45,
   "id": "e2a10f33",
   "metadata": {},
   "outputs": [
    {
     "data": {
      "text/plain": [
       "['C:\\\\Users\\\\main\\\\Documents\\\\Shop\\\\data\\\\Apex_레전드™_info.csv',\n",
       " 'C:\\\\Users\\\\main\\\\Documents\\\\Shop\\\\data\\\\Core Keeper_info.csv',\n",
       " 'C:\\\\Users\\\\main\\\\Documents\\\\Shop\\\\data\\\\Core_Keeper_info.csv',\n",
       " 'C:\\\\Users\\\\main\\\\Documents\\\\Shop\\\\data\\\\Counter-Strike_2_info.csv',\n",
       " 'C:\\\\Users\\\\main\\\\Documents\\\\Shop\\\\data\\\\dead Space3_info.csv',\n",
       " 'C:\\\\Users\\\\main\\\\Documents\\\\Shop\\\\data\\\\eFootball2024_info.csv',\n",
       " 'C:\\\\Users\\\\main\\\\Documents\\\\Shop\\\\data\\\\ELDEN RING 밤의 통치자_info.csv',\n",
       " 'C:\\\\Users\\\\main\\\\Documents\\\\Shop\\\\data\\\\FlatOut 3_ Chaos & Destruction_info.csv',\n",
       " 'C:\\\\Users\\\\main\\\\Documents\\\\Shop\\\\data\\\\garry_info.csv',\n",
       " 'C:\\\\Users\\\\main\\\\Documents\\\\Shop\\\\data\\\\garry_mod.csv',\n",
       " 'C:\\\\Users\\\\main\\\\Documents\\\\Shop\\\\data\\\\NBA_2K24_info.csv',\n",
       " 'C:\\\\Users\\\\main\\\\Documents\\\\Shop\\\\data\\\\overwatch2_info.csv',\n",
       " 'C:\\\\Users\\\\main\\\\Documents\\\\Shop\\\\data\\\\Palworld_info.csv',\n",
       " 'C:\\\\Users\\\\main\\\\Documents\\\\Shop\\\\data\\\\PEAK_info.csv',\n",
       " 'C:\\\\Users\\\\main\\\\Documents\\\\Shop\\\\data\\\\portal_info.csv',\n",
       " 'C:\\\\Users\\\\main\\\\Documents\\\\Shop\\\\data\\\\PUMP IT UP RISE_info.csv',\n",
       " 'C:\\\\Users\\\\main\\\\Documents\\\\Shop\\\\data\\\\RimWorld - Biotech_info.csv',\n",
       " 'C:\\\\Users\\\\main\\\\Documents\\\\Shop\\\\data\\\\RimWorld - Odyssey_info.csv',\n",
       " 'C:\\\\Users\\\\main\\\\Documents\\\\Shop\\\\data\\\\RimWorld_info.csv',\n",
       " 'C:\\\\Users\\\\main\\\\Documents\\\\Shop\\\\data\\\\Satisfactory_info.csv',\n",
       " 'C:\\\\Users\\\\main\\\\Documents\\\\Shop\\\\data\\\\Sea_of_Thieves_ 2025 Edition_info.csv',\n",
       " 'C:\\\\Users\\\\main\\\\Documents\\\\Shop\\\\data\\\\superPower_info.csv',\n",
       " 'C:\\\\Users\\\\main\\\\Documents\\\\Shop\\\\data\\\\데스티니 가디언즈_info.csv',\n",
       " 'C:\\\\Users\\\\main\\\\Documents\\\\Shop\\\\data\\\\스텔라 블레이드™_info.csv',\n",
       " 'C:\\\\Users\\\\main\\\\Documents\\\\Shop\\\\data\\\\이터널 리턴_info.csv']"
      ]
     },
     "execution_count": 45,
     "metadata": {},
     "output_type": "execute_result"
    }
   ],
   "source": [
    "import os\n",
    "\n",
    "data_dir = r'C:\\Users\\main\\Documents\\Shop\\data'\n",
    "data_li = [os.path.join(data_dir, fname) \n",
    "           for fname in os.listdir(data_dir) if fname.endswith('.csv')]\n",
    "\n",
    "\n",
    "data_li\n"
   ]
  },
  {
   "cell_type": "code",
   "execution_count": 55,
   "id": "eb62efce",
   "metadata": {},
   "outputs": [],
   "source": [
    "from chromadb.config import Settings"
   ]
  },
  {
   "cell_type": "code",
   "execution_count": 3,
   "id": "541de3c8",
   "metadata": {},
   "outputs": [],
   "source": [
    "from gensim.models.fasttext import load_facebook_model\n",
    "\n",
    "ft = load_facebook_model(\"../shop/admservice/Model/cc.ko.300.bin\")    "
   ]
  },
  {
   "cell_type": "code",
   "execution_count": null,
   "id": "97c5002a",
   "metadata": {},
   "outputs": [],
   "source": [
    "import re, emoji\n",
    "from soynlp.normalizer import repeat_normalize\n",
    "\n",
    "def cleaner(text):\n",
    "    text = emoji.replace_emoji(text, replace='')          # 이모지 제거\n",
    "    text = re.sub(r'https?://\\S+', '', text)              # URL 제거\n",
    "    text = re.sub(r'[^가-힣0-9a-zA-Z\\s]', ' ', text)      # 특수문자 정리\n",
    "    text = repeat_normalize(text, num_repeats=2)          # ㅋㅋㅋㅋ → ㅋㅋ\n",
    "    return text.strip()"
   ]
  },
  {
   "cell_type": "code",
   "execution_count": 12,
   "id": "e7d3ddce",
   "metadata": {},
   "outputs": [
    {
     "data": {
      "text/plain": [
       "'안녕 메켙친'"
      ]
     },
     "execution_count": 12,
     "metadata": {},
     "output_type": "execute_result"
    }
   ],
   "source": [
    "txt = clean(\"안녕    메켙친     : //  ㅋㅋㅋㅋㅋㅁㅁㅁㅁㅁ \")\n",
    "\n",
    "txt"
   ]
  },
  {
   "cell_type": "code",
   "execution_count": null,
   "id": "367c79b4",
   "metadata": {},
   "outputs": [],
   "source": [
    "from konlpy.tag import Okt\n",
    "\n",
    "\n",
    "def tokenizer():\n",
    "    pass"
   ]
  },
  {
   "cell_type": "code",
   "execution_count": null,
   "id": "890ee741",
   "metadata": {},
   "outputs": [],
   "source": [
    "def sentence2vector():\n",
    "    "
   ]
  },
  {
   "cell_type": "code",
   "execution_count": 27,
   "id": "8f9efa73",
   "metadata": {},
   "outputs": [
    {
     "name": "stdout",
     "output_type": "stream",
     "text": [
      "save success\n",
      "save success\n",
      "save success\n",
      "save success\n",
      "save success\n",
      "save success\n",
      "save success\n",
      "save success\n",
      "save success\n",
      "save success\n",
      "save success\n",
      "save success\n",
      "save success\n",
      "save success\n",
      "save success\n",
      "save success\n",
      "save success\n",
      "save success\n",
      "save success\n",
      "save success\n",
      "save success\n",
      "save success\n",
      "save success\n",
      "save success\n",
      "save success\n",
      "save success\n",
      "save success\n",
      "save success\n"
     ]
    }
   ],
   "source": [
    "import os\n",
    "data_dir1 = r'C:\\Shop\\preprocessor'\n",
    "\n",
    "data_li1 = [os.path.join(data_dir1, fname) for fname in os.listdir(data_dir1) if fname.endswith('.csv')]\n",
    "\n",
    "\n",
    "data_li1\n",
    "\n",
    "MAX_LEN = 200\n",
    "\n",
    "# 4. 각 파일 처리\n",
    "for file_path in data_li1:\n",
    "    df = pd.read_csv(file_path)\n",
    "\n",
    "\n",
    "    if 'content' not in df.columns:\n",
    "        continue\n",
    "\n",
    "    df = df[df['content'].astype(str).str.len() < MAX_LEN]\n",
    "\n",
    "    df.to_csv(os.path.basename(file_path),index=False,encoding=\"utf-8-sig\")\n",
    "\n",
    "    print('save success')"
   ]
  },
  {
   "cell_type": "code",
   "execution_count": 43,
   "id": "90276d7b",
   "metadata": {},
   "outputs": [
    {
     "name": "stderr",
     "output_type": "stream",
     "text": [
      "Device set to use cpu\n"
     ]
    },
    {
     "name": "stdout",
     "output_type": "stream",
     "text": [
      "[{'label': 'LABEL_0', 'score': 0.5712548494338989}]\n"
     ]
    }
   ],
   "source": [
    "\n",
    "sentiment_pipeline = pipeline(\n",
    "    \"sentiment-analysis\",\n",
    "    model=\"alsgyu/sentiment-analysis-fine-tuned-model\",\n",
    "    tokenizer=\"beomi/KcBERT-base\"\n",
    ")\n",
    "\n",
    "print(sentiment_pipeline(\"개재미없다\"))"
   ]
  },
  {
   "cell_type": "code",
   "execution_count": 47,
   "id": "34c151dd",
   "metadata": {},
   "outputs": [
    {
     "name": "stderr",
     "output_type": "stream",
     "text": [
      "Device set to use cpu\n"
     ]
    },
    {
     "data": {
      "text/plain": [
       "[{'label': 'LABEL_2', 'score': 0.9919123649597168}]"
      ]
     },
     "execution_count": 47,
     "metadata": {},
     "output_type": "execute_result"
    }
   ],
   "source": [
    "from collections import Counter\n",
    "import numpy as np\n",
    "from sklearn.feature_extraction.text import TfidfVectorizer\n",
    "from sklearn.cluster import KMeans\n",
    "from wordcloud import WordCloud\n",
    "import matplotlib.pyplot as plt\n",
    "import tempfile\n",
    "from django.core.files.base import ContentFile\n",
    "from transformers import pipeline\n",
    "from transformers import AutoTokenizer, AutoModelForSequenceClassification, pipeline\n",
    "sentiment_pipeline = pipeline(\n",
    "    \"sentiment-analysis\",\n",
    "    model=\"alsgyu/sentiment-analysis-fine-tuned-model\",\n",
    "    tokenizer=\"beomi/KcBERT-base\"\n",
    ")\n",
    "def classify_review(text: str) -> str:\n",
    "    result = sentiment_pipeline(text[:512])[0]\n",
    "    label = result['label'].lower()\n",
    "    \n",
    "    if '2' in label:\n",
    "        return '긍정'\n",
    "    elif '1' in label:\n",
    "        return '애매'\n",
    "    elif '0' in label:\n",
    "        return '부정'\n",
    "    \n",
    "    \n",
    "sentiment_pipeline(\"아주 정말정말 재미 있음 강력추천\")"
   ]
  },
  {
   "cell_type": "code",
   "execution_count": 48,
   "id": "88ea77b5",
   "metadata": {},
   "outputs": [
    {
     "data": {
      "text/plain": [
       "['부정', '부정', '긍정', '긍정', '긍정', '긍정']"
      ]
     },
     "execution_count": 48,
     "metadata": {},
     "output_type": "execute_result"
    }
   ],
   "source": [
    "r1 = [\"시간낭비가 컨텐츤데 돈쓰면 시간낭비를 못함\",\"계정을 한번 잃어버리면 찾을방도가 없음;\",\"재미있음\",\"그래픽은 이미 무료를 뛰어넘었고 적당한 노가다가 있는 게임이다. 이겜은 팀포만큼 재밌다\"\n",
    "      ,\"게임이 점점 발전하는 게 느껴진다 가볍게 플레이하기 좋은 게임\",\"최고의 그래픽 컨텐츠 모두 완벽합니다\"]\n",
    "\n",
    "sample_sentiments = [classify_review(text) for text in r1]\n",
    "\n",
    "sample_sentiments"
   ]
  },
  {
   "cell_type": "code",
   "execution_count": 12,
   "id": "f4d2aa7f",
   "metadata": {},
   "outputs": [],
   "source": [
    "korean_stopwords = [\n",
    "    '정말', '그냥', '너무', '진짜', '그리고', '이건', '이것', '그건', '거의', '좀', '합니다', '있는', '없는', '했다', '하는',\n",
    "    '게임', '입니다', '했다', '있다', '였다', '나는', '제가', '것이다'\n",
    "]\n",
    "\n",
    "\n",
    "\n",
    "def extract_top_keywords_by_sentiment(reviews, sentiments, top_n=10):\n",
    "    grouped = {'긍정': [], '부정': []}\n",
    "    for r, s in zip(reviews, sentiments):\n",
    "        if s in grouped:\n",
    "            grouped[s].append(r)\n",
    "\n",
    "    tfidf = TfidfVectorizer(max_features=1000, stop_words=korean_stopwords)\n",
    "    keywords = {}\n",
    "    for sentiment, texts in grouped.items():\n",
    "        if not texts:\n",
    "            keywords[sentiment] = []\n",
    "            continue\n",
    "        X = tfidf.fit_transform(texts)\n",
    "        scores = np.asarray(X.sum(axis=0)).ravel()\n",
    "        indices = scores.argsort()[::-1][:top_n]\n",
    "        feature_names = np.array(tfidf.get_feature_names_out())\n",
    "        top_words = feature_names[indices]\n",
    "        scores_sorted = scores[indices]\n",
    "        keywords[sentiment] = [f\"{word} ({round(score, 2)})\" for word, score in zip(top_words, scores_sorted)]\n",
    "\n",
    "    return keywords"
   ]
  },
  {
   "cell_type": "code",
   "execution_count": 13,
   "id": "b5632503",
   "metadata": {},
   "outputs": [
    {
     "name": "stdout",
     "output_type": "stream",
     "text": [
      "▶ 긍정 키워드: []\n",
      "▶ 부정 키워드: []\n"
     ]
    }
   ],
   "source": [
    "r1 = [\"시간낭비가 컨텐츤데 돈쓰면 시간낭비를 못함\",\"계정을 한번 잃어버리면 찾을방도가 없음;\"]\n",
    "\n",
    "sample_sentiments = [classify_review(text) for text in r1]\n",
    "\n",
    "top_keywords = extract_top_keywords_by_sentiment(r1, sample_sentiments)\n",
    "\n",
    "print(\"▶ 긍정 키워드:\", top_keywords.get(\"긍정\", []))\n",
    "print(\"▶ 부정 키워드:\", top_keywords.get(\"부정\", []))"
   ]
  },
  {
   "cell_type": "code",
   "execution_count": 55,
   "id": "063acf68",
   "metadata": {},
   "outputs": [],
   "source": [
    "import matplotlib.pyplot as plt\n",
    "\n",
    "def visualize_top_keywords(top_keywords):\n",
    "    for sentiment, keywords in top_keywords.items():\n",
    "        if not keywords:\n",
    "            continue\n",
    "\n",
    "        words, scores = zip(*[\n",
    "            (kw.split(\" \")[0], float(kw.split(\"(\")[-1].rstrip(\")\")))\n",
    "            for kw in keywords\n",
    "        ])\n",
    "\n",
    "        plt.figure(figsize=(10, 4))\n",
    "        plt.bar(words, scores, color='green' if sentiment == '긍정' else 'red')\n",
    "        plt.title(f\"{sentiment} 키워드 TF-IDF 점수\")\n",
    "        plt.xlabel(\"키워드\")\n",
    "        plt.ylabel(\"점수\")\n",
    "        plt.xticks(rotation=45)\n",
    "        plt.tight_layout()\n",
    "        plt.show()\n"
   ]
  },
  {
   "cell_type": "code",
   "execution_count": 56,
   "id": "104fec40",
   "metadata": {},
   "outputs": [
    {
     "data": {
      "image/png": "[encoded data removed]",
      "text/plain": [
       "<Figure size 1000x400 with 1 Axes>"
      ]
     },
     "metadata": {},
     "output_type": "display_data"
    },
    {
     "data": {
      "image/png": "[encoded data removed]",
      "text/plain": [
       "<Figure size 1000x400 with 1 Axes>"
      ]
     },
     "metadata": {},
     "output_type": "display_data"
    }
   ],
   "source": [
    "import koreanize_matplotlib\n",
    "\n",
    "visualize_top_keywords(top_keywords)"
   ]
  },
  {
   "cell_type": "code",
   "execution_count": null,
   "id": "483f64d9",
   "metadata": {},
   "outputs": [],
   "source": [
    "# review_analyzer/models.py\n",
    "from django.db import models\n",
    "from product.models import Product  # 연관된 게임(Product)\n",
    "\n",
    "class ReviewAnalysis(models.Model):\n",
    "    product = models.OneToOneField(Product, on_delete=models.CASCADE)\n",
    "    total_reviews = models.PositiveIntegerField(default=0)\n",
    "    positive_count = models.PositiveIntegerField(default=0)\n",
    "    neutral_count = models.PositiveIntegerField(default=0)\n",
    "    negative_count = models.PositiveIntegerField(default=0)\n",
    "    average_length = models.FloatField(default=0.0)\n",
    "    cluster_json = models.JSONField(null=True, blank=True)\n",
    "    wordcloud_image = models.ImageField(upload_to='wordclouds/', null=True, blank=True)\n",
    "    updated_at = models.DateTimeField(auto_now=True)\n",
    "\n",
    "    def sentiment_ratio(self):\n",
    "        total = self.total_reviews or 1\n",
    "        return {\n",
    "            \"긍정\": round(self.positive_count / total * 100, 1),\n",
    "            \"애매\": round(self.neutral_count / total * 100, 1),\n",
    "            \"부정\": round(self.negative_count / total * 100, 1)\n",
    "        }\n",
    "\n",
    "    def __str__(self):\n",
    "        return f\"{self.product.name} 리뷰 분석\"\n",
    "\n",
    "\n",
    "# review_analyzer/analysis.py\n",
    "from collections import Counter\n",
    "import numpy as np\n",
    "from sklearn.feature_extraction.text import TfidfVectorizer\n",
    "from sklearn.cluster import KMeans\n",
    "from wordcloud import WordCloud\n",
    "import matplotlib.pyplot as plt\n",
    "import tempfile\n",
    "from django.core.files.base import ContentFile\n",
    "from .models import ReviewAnalysis\n",
    "from product.models import Product\n",
    "from transformers import pipeline\n",
    "\n",
    "# 감성 분석 모델 (사전학습된 모델 사용)\n",
    "sentiment_pipeline = pipeline(\"sentiment-analysis\", model=\"nlptown/bert-base-multilingual-uncased-sentiment\")\n",
    "\n",
    "def classify_review(text: str) -> str:\n",
    "    label = sentiment_pipeline(text[:512])[0]['label']\n",
    "    if '5' in label or '4' in label:\n",
    "        return '긍정'\n",
    "    elif '1' in label or '2' in label:\n",
    "        return '부정'\n",
    "    else:\n",
    "        return '애매'\n",
    "\n",
    "\n",
    "def extract_top_keywords_by_sentiment(reviews, sentiments, top_n=10):\n",
    "    grouped = {'긍정': [], '부정': []}\n",
    "    for r, s in zip(reviews, sentiments):\n",
    "        if s in grouped:\n",
    "            grouped[s].append(r)\n",
    "\n",
    "    tfidf = TfidfVectorizer(max_features=1000, stop_words='english')\n",
    "    keywords = {}\n",
    "    for sentiment, texts in grouped.items():\n",
    "        if not texts:\n",
    "            keywords[sentiment] = []\n",
    "            continue\n",
    "        X = tfidf.fit_transform(texts)\n",
    "        scores = np.asarray(X.sum(axis=0)).ravel()\n",
    "        indices = scores.argsort()[::-1][:top_n]\n",
    "        feature_names = np.array(tfidf.get_feature_names_out())\n",
    "        top_words = feature_names[indices]\n",
    "        scores_sorted = scores[indices]\n",
    "        keywords[sentiment] = [f\"{word} ({round(score, 2)})\" for word, score in zip(top_words, scores_sorted)]\n",
    "\n",
    "    return keywords\n",
    "\n",
    "\n",
    "def cluster_reviews(reviews, n_clusters=3):\n",
    "    tfidf = TfidfVectorizer(max_features=1000, stop_words='english')\n",
    "    X = tfidf.fit_transform(reviews)\n",
    "    model = KMeans(n_clusters=n_clusters, random_state=42)\n",
    "    labels = model.fit_predict(X)\n",
    "    clusters = {str(i): [] for i in range(n_clusters)}\n",
    "    for idx, label in enumerate(labels):\n",
    "        clusters[str(label)].append(reviews[idx])\n",
    "    return clusters, labels\n",
    "\n",
    "\n",
    "def generate_wordcloud_image(reviews, product_id):\n",
    "    text = \" \".join(reviews)\n",
    "    wordcloud = WordCloud(width=800, height=400, background_color='white', font_path='NanumGothic.ttf').generate(text)\n",
    "    tmp = tempfile.NamedTemporaryFile(delete=False, suffix=\".png\")\n",
    "    wordcloud.to_file(tmp.name)\n",
    "    with open(tmp.name, 'rb') as f:\n",
    "        return ContentFile(f.read(), name=f\"wordcloud_{product_id}.png\")\n",
    "\n",
    "\n",
    "def analyze_and_save(product_id: int, reviews: list[str]):\n",
    "    reviews = [r.strip() for r in reviews if isinstance(r, str) and len(r.strip()) >= 20]\n",
    "    if not reviews:\n",
    "        return None\n",
    "\n",
    "    # 1. 감성 분류 먼저 수행\n",
    "    sentiments = [classify_review(r) for r in reviews]\n",
    "    counts = Counter(sentiments)\n",
    "\n",
    "    # 2. 감성 키워드 추출\n",
    "    top_keywords = extract_top_keywords_by_sentiment(reviews, sentiments)\n",
    "    print(\"긍정 키워드:\")\n",
    "    for kw in top_keywords.get(\"긍정\", []):\n",
    "        print(\" -\", kw)\n",
    "    print(\"부정 키워드:\")\n",
    "    for kw in top_keywords.get(\"부정\", []):\n",
    "        print(\" -\", kw)\n",
    "\n",
    "    # 3. 클러스터링 수행\n",
    "    avg_len = np.mean([len(r) for r in reviews])\n",
    "    clusters, labels = cluster_reviews(reviews)\n",
    "\n",
    "    # 4. 워드클라우드 생성\n",
    "    wordcloud_img = generate_wordcloud_image(reviews, product_id)\n",
    "\n",
    "    # 5. 결과 저장\n",
    "    product = Product.objects.get(id=product_id)\n",
    "    analysis, _ = ReviewAnalysis.objects.get_or_create(product=product)\n",
    "    analysis.total_reviews = len(reviews)\n",
    "    analysis.positive_count = counts.get(\"긍정\", 0)\n",
    "    analysis.neutral_count = counts.get(\"애매\", 0)\n",
    "    analysis.negative_count = counts.get(\"부정\", 0)\n",
    "    analysis.average_length = avg_len\n",
    "    analysis.cluster_json = clusters\n",
    "    analysis.wordcloud_image = wordcloud_img\n",
    "    analysis.save()\n",
    "    return analysis\n"
   ]
  },
  {
   "cell_type": "code",
   "execution_count": 3,
   "id": "cf37640d",
   "metadata": {},
   "outputs": [
    {
     "ename": "ModuleNotFoundError",
     "evalue": "No module named 'shopbot'",
     "output_type": "error",
     "traceback": [
      "\u001b[31m---------------------------------------------------------------------------\u001b[39m",
      "\u001b[31mModuleNotFoundError\u001b[39m                       Traceback (most recent call last)",
      "\u001b[36mCell\u001b[39m\u001b[36m \u001b[39m\u001b[32mIn[3]\u001b[39m\u001b[32m, line 3\u001b[39m\n\u001b[32m      1\u001b[39m \u001b[38;5;28;01mfrom\u001b[39;00m\u001b[38;5;250m \u001b[39m\u001b[34;01mdjango\u001b[39;00m\u001b[34;01m.\u001b[39;00m\u001b[34;01mconf\u001b[39;00m\u001b[38;5;250m \u001b[39m\u001b[38;5;28;01mimport\u001b[39;00m settings\n\u001b[32m----> \u001b[39m\u001b[32m3\u001b[39m DATA_DIR = os.path.join(\u001b[43msettings\u001b[49m\u001b[43m.\u001b[49m\u001b[43mBASE_DIR\u001b[49m, \u001b[33m'\u001b[39m\u001b[33mpreprocessor\u001b[39m\u001b[33m'\u001b[39m)\n\u001b[32m      4\u001b[39m \u001b[38;5;28;01mfor\u001b[39;00m fname \u001b[38;5;129;01min\u001b[39;00m os.listdir(DATA_DIR) :\n\u001b[32m      5\u001b[39m     \u001b[38;5;28;01mif\u001b[39;00m fname.endswith(\u001b[33m'\u001b[39m\u001b[33m.csv\u001b[39m\u001b[33m'\u001b[39m):\n",
      "\u001b[36mFile \u001b[39m\u001b[32mc:\\Users\\main\\Documents\\Shop\\shopvenv\\Lib\\site-packages\\django\\conf\\__init__.py:81\u001b[39m, in \u001b[36mLazySettings.__getattr__\u001b[39m\u001b[34m(self, name)\u001b[39m\n\u001b[32m     79\u001b[39m \u001b[38;5;250m\u001b[39m\u001b[33;03m\"\"\"Return the value of a setting and cache it in self.__dict__.\"\"\"\u001b[39;00m\n\u001b[32m     80\u001b[39m \u001b[38;5;28;01mif\u001b[39;00m (_wrapped := \u001b[38;5;28mself\u001b[39m._wrapped) \u001b[38;5;129;01mis\u001b[39;00m empty:\n\u001b[32m---> \u001b[39m\u001b[32m81\u001b[39m     \u001b[38;5;28;43mself\u001b[39;49m\u001b[43m.\u001b[49m\u001b[43m_setup\u001b[49m\u001b[43m(\u001b[49m\u001b[43mname\u001b[49m\u001b[43m)\u001b[49m\n\u001b[32m     82\u001b[39m     _wrapped = \u001b[38;5;28mself\u001b[39m._wrapped\n\u001b[32m     83\u001b[39m val = \u001b[38;5;28mgetattr\u001b[39m(_wrapped, name)\n",
      "\u001b[36mFile \u001b[39m\u001b[32mc:\\Users\\main\\Documents\\Shop\\shopvenv\\Lib\\site-packages\\django\\conf\\__init__.py:68\u001b[39m, in \u001b[36mLazySettings._setup\u001b[39m\u001b[34m(self, name)\u001b[39m\n\u001b[32m     60\u001b[39m     desc = (\u001b[33m\"\u001b[39m\u001b[33msetting \u001b[39m\u001b[38;5;132;01m%s\u001b[39;00m\u001b[33m\"\u001b[39m % name) \u001b[38;5;28;01mif\u001b[39;00m name \u001b[38;5;28;01melse\u001b[39;00m \u001b[33m\"\u001b[39m\u001b[33msettings\u001b[39m\u001b[33m\"\u001b[39m\n\u001b[32m     61\u001b[39m     \u001b[38;5;28;01mraise\u001b[39;00m ImproperlyConfigured(\n\u001b[32m     62\u001b[39m         \u001b[33m\"\u001b[39m\u001b[33mRequested \u001b[39m\u001b[38;5;132;01m%s\u001b[39;00m\u001b[33m, but settings are not configured. \u001b[39m\u001b[33m\"\u001b[39m\n\u001b[32m     63\u001b[39m         \u001b[33m\"\u001b[39m\u001b[33mYou must either define the environment variable \u001b[39m\u001b[38;5;132;01m%s\u001b[39;00m\u001b[33m \u001b[39m\u001b[33m\"\u001b[39m\n\u001b[32m     64\u001b[39m         \u001b[33m\"\u001b[39m\u001b[33mor call settings.configure() before accessing settings.\u001b[39m\u001b[33m\"\u001b[39m\n\u001b[32m     65\u001b[39m         % (desc, ENVIRONMENT_VARIABLE)\n\u001b[32m     66\u001b[39m     )\n\u001b[32m---> \u001b[39m\u001b[32m68\u001b[39m \u001b[38;5;28mself\u001b[39m._wrapped = \u001b[43mSettings\u001b[49m\u001b[43m(\u001b[49m\u001b[43msettings_module\u001b[49m\u001b[43m)\u001b[49m\n",
      "\u001b[36mFile \u001b[39m\u001b[32mc:\\Users\\main\\Documents\\Shop\\shopvenv\\Lib\\site-packages\\django\\conf\\__init__.py:166\u001b[39m, in \u001b[36mSettings.__init__\u001b[39m\u001b[34m(self, settings_module)\u001b[39m\n\u001b[32m    163\u001b[39m \u001b[38;5;66;03m# store the settings module in case someone later cares\u001b[39;00m\n\u001b[32m    164\u001b[39m \u001b[38;5;28mself\u001b[39m.SETTINGS_MODULE = settings_module\n\u001b[32m--> \u001b[39m\u001b[32m166\u001b[39m mod = \u001b[43mimportlib\u001b[49m\u001b[43m.\u001b[49m\u001b[43mimport_module\u001b[49m\u001b[43m(\u001b[49m\u001b[38;5;28;43mself\u001b[39;49m\u001b[43m.\u001b[49m\u001b[43mSETTINGS_MODULE\u001b[49m\u001b[43m)\u001b[49m\n\u001b[32m    168\u001b[39m tuple_settings = (\n\u001b[32m    169\u001b[39m     \u001b[33m\"\u001b[39m\u001b[33mALLOWED_HOSTS\u001b[39m\u001b[33m\"\u001b[39m,\n\u001b[32m    170\u001b[39m     \u001b[33m\"\u001b[39m\u001b[33mINSTALLED_APPS\u001b[39m\u001b[33m\"\u001b[39m,\n\u001b[32m   (...)\u001b[39m\u001b[32m    173\u001b[39m     \u001b[33m\"\u001b[39m\u001b[33mSECRET_KEY_FALLBACKS\u001b[39m\u001b[33m\"\u001b[39m,\n\u001b[32m    174\u001b[39m )\n\u001b[32m    175\u001b[39m \u001b[38;5;28mself\u001b[39m._explicit_settings = \u001b[38;5;28mset\u001b[39m()\n",
      "\u001b[36mFile \u001b[39m\u001b[32mC:\\Program Files\\Python312\\Lib\\importlib\\__init__.py:90\u001b[39m, in \u001b[36mimport_module\u001b[39m\u001b[34m(name, package)\u001b[39m\n\u001b[32m     88\u001b[39m             \u001b[38;5;28;01mbreak\u001b[39;00m\n\u001b[32m     89\u001b[39m         level += \u001b[32m1\u001b[39m\n\u001b[32m---> \u001b[39m\u001b[32m90\u001b[39m \u001b[38;5;28;01mreturn\u001b[39;00m \u001b[43m_bootstrap\u001b[49m\u001b[43m.\u001b[49m\u001b[43m_gcd_import\u001b[49m\u001b[43m(\u001b[49m\u001b[43mname\u001b[49m\u001b[43m[\u001b[49m\u001b[43mlevel\u001b[49m\u001b[43m:\u001b[49m\u001b[43m]\u001b[49m\u001b[43m,\u001b[49m\u001b[43m \u001b[49m\u001b[43mpackage\u001b[49m\u001b[43m,\u001b[49m\u001b[43m \u001b[49m\u001b[43mlevel\u001b[49m\u001b[43m)\u001b[49m\n",
      "\u001b[36mFile \u001b[39m\u001b[32m<frozen importlib._bootstrap>:1387\u001b[39m, in \u001b[36m_gcd_import\u001b[39m\u001b[34m(name, package, level)\u001b[39m\n",
      "\u001b[36mFile \u001b[39m\u001b[32m<frozen importlib._bootstrap>:1360\u001b[39m, in \u001b[36m_find_and_load\u001b[39m\u001b[34m(name, import_)\u001b[39m\n",
      "\u001b[36mFile \u001b[39m\u001b[32m<frozen importlib._bootstrap>:1310\u001b[39m, in \u001b[36m_find_and_load_unlocked\u001b[39m\u001b[34m(name, import_)\u001b[39m\n",
      "\u001b[36mFile \u001b[39m\u001b[32m<frozen importlib._bootstrap>:488\u001b[39m, in \u001b[36m_call_with_frames_removed\u001b[39m\u001b[34m(f, *args, **kwds)\u001b[39m\n",
      "\u001b[36mFile \u001b[39m\u001b[32m<frozen importlib._bootstrap>:1387\u001b[39m, in \u001b[36m_gcd_import\u001b[39m\u001b[34m(name, package, level)\u001b[39m\n",
      "\u001b[36mFile \u001b[39m\u001b[32m<frozen importlib._bootstrap>:1360\u001b[39m, in \u001b[36m_find_and_load\u001b[39m\u001b[34m(name, import_)\u001b[39m\n",
      "\u001b[36mFile \u001b[39m\u001b[32m<frozen importlib._bootstrap>:1324\u001b[39m, in \u001b[36m_find_and_load_unlocked\u001b[39m\u001b[34m(name, import_)\u001b[39m\n",
      "\u001b[31mModuleNotFoundError\u001b[39m: No module named 'shopbot'"
     ]
    }
   ],
   "source": [
    "from django.conf import settings\n",
    "\n",
    "DATA_DIR = os.path.join(settings.BASE_DIR, 'preprocessor')\n",
    "for fname in os.listdir(DATA_DIR) :\n",
    "    if fname.endswith('.csv'):\n",
    "        print(fname)"
   ]
  },
  {
   "cell_type": "code",
   "execution_count": null,
   "id": "851ffdd9",
   "metadata": {},
   "outputs": [
    {
     "ename": "ModuleNotFoundError",
     "evalue": "No module named 'shopbot'",
     "output_type": "error",
     "traceback": [
      "\u001b[31m---------------------------------------------------------------------------\u001b[39m",
      "\u001b[31mModuleNotFoundError\u001b[39m                       Traceback (most recent call last)",
      "\u001b[36mCell\u001b[39m\u001b[36m \u001b[39m\u001b[32mIn[56]\u001b[39m\u001b[32m, line 4\u001b[39m\n\u001b[32m      2\u001b[39m os.environ.setdefault(\u001b[33m\"\u001b[39m\u001b[33mDJANGO_SETTINGS_MODULE\u001b[39m\u001b[33m\"\u001b[39m, \u001b[33m\"\u001b[39m\u001b[33mshopbot.settings\u001b[39m\u001b[33m\"\u001b[39m)\n\u001b[32m      3\u001b[39m \u001b[38;5;28;01mimport\u001b[39;00m\u001b[38;5;250m \u001b[39m\u001b[34;01mdjango\u001b[39;00m\n\u001b[32m----> \u001b[39m\u001b[32m4\u001b[39m \u001b[43mdjango\u001b[49m\u001b[43m.\u001b[49m\u001b[43msetup\u001b[49m\u001b[43m(\u001b[49m\u001b[43m)\u001b[49m\n\u001b[32m      5\u001b[39m \u001b[38;5;28;01mfrom\u001b[39;00m\u001b[38;5;250m \u001b[39m\u001b[34;01mdjango\u001b[39;00m\u001b[34;01m.\u001b[39;00m\u001b[34;01mconf\u001b[39;00m\u001b[38;5;250m \u001b[39m\u001b[38;5;28;01mimport\u001b[39;00m settings\n\u001b[32m      7\u001b[39m api_key = settings.OPEN_AI_API_KEY\n",
      "\u001b[36mFile \u001b[39m\u001b[32mc:\\Users\\main\\Documents\\Shop\\shopvenv\\Lib\\site-packages\\django\\__init__.py:19\u001b[39m, in \u001b[36msetup\u001b[39m\u001b[34m(set_prefix)\u001b[39m\n\u001b[32m     16\u001b[39m \u001b[38;5;28;01mfrom\u001b[39;00m\u001b[38;5;250m \u001b[39m\u001b[34;01mdjango\u001b[39;00m\u001b[34;01m.\u001b[39;00m\u001b[34;01murls\u001b[39;00m\u001b[38;5;250m \u001b[39m\u001b[38;5;28;01mimport\u001b[39;00m set_script_prefix\n\u001b[32m     17\u001b[39m \u001b[38;5;28;01mfrom\u001b[39;00m\u001b[38;5;250m \u001b[39m\u001b[34;01mdjango\u001b[39;00m\u001b[34;01m.\u001b[39;00m\u001b[34;01mutils\u001b[39;00m\u001b[34;01m.\u001b[39;00m\u001b[34;01mlog\u001b[39;00m\u001b[38;5;250m \u001b[39m\u001b[38;5;28;01mimport\u001b[39;00m configure_logging\n\u001b[32m---> \u001b[39m\u001b[32m19\u001b[39m configure_logging(\u001b[43msettings\u001b[49m\u001b[43m.\u001b[49m\u001b[43mLOGGING_CONFIG\u001b[49m, settings.LOGGING)\n\u001b[32m     20\u001b[39m \u001b[38;5;28;01mif\u001b[39;00m set_prefix:\n\u001b[32m     21\u001b[39m     set_script_prefix(\n\u001b[32m     22\u001b[39m         \u001b[33m\"\u001b[39m\u001b[33m/\u001b[39m\u001b[33m\"\u001b[39m \u001b[38;5;28;01mif\u001b[39;00m settings.FORCE_SCRIPT_NAME \u001b[38;5;129;01mis\u001b[39;00m \u001b[38;5;28;01mNone\u001b[39;00m \u001b[38;5;28;01melse\u001b[39;00m settings.FORCE_SCRIPT_NAME\n\u001b[32m     23\u001b[39m     )\n",
      "\u001b[36mFile \u001b[39m\u001b[32mc:\\Users\\main\\Documents\\Shop\\shopvenv\\Lib\\site-packages\\django\\conf\\__init__.py:81\u001b[39m, in \u001b[36mLazySettings.__getattr__\u001b[39m\u001b[34m(self, name)\u001b[39m\n\u001b[32m     79\u001b[39m \u001b[38;5;250m\u001b[39m\u001b[33;03m\"\"\"Return the value of a setting and cache it in self.__dict__.\"\"\"\u001b[39;00m\n\u001b[32m     80\u001b[39m \u001b[38;5;28;01mif\u001b[39;00m (_wrapped := \u001b[38;5;28mself\u001b[39m._wrapped) \u001b[38;5;129;01mis\u001b[39;00m empty:\n\u001b[32m---> \u001b[39m\u001b[32m81\u001b[39m     \u001b[38;5;28;43mself\u001b[39;49m\u001b[43m.\u001b[49m\u001b[43m_setup\u001b[49m\u001b[43m(\u001b[49m\u001b[43mname\u001b[49m\u001b[43m)\u001b[49m\n\u001b[32m     82\u001b[39m     _wrapped = \u001b[38;5;28mself\u001b[39m._wrapped\n\u001b[32m     83\u001b[39m val = \u001b[38;5;28mgetattr\u001b[39m(_wrapped, name)\n",
      "\u001b[36mFile \u001b[39m\u001b[32mc:\\Users\\main\\Documents\\Shop\\shopvenv\\Lib\\site-packages\\django\\conf\\__init__.py:68\u001b[39m, in \u001b[36mLazySettings._setup\u001b[39m\u001b[34m(self, name)\u001b[39m\n\u001b[32m     60\u001b[39m     desc = (\u001b[33m\"\u001b[39m\u001b[33msetting \u001b[39m\u001b[38;5;132;01m%s\u001b[39;00m\u001b[33m\"\u001b[39m % name) \u001b[38;5;28;01mif\u001b[39;00m name \u001b[38;5;28;01melse\u001b[39;00m \u001b[33m\"\u001b[39m\u001b[33msettings\u001b[39m\u001b[33m\"\u001b[39m\n\u001b[32m     61\u001b[39m     \u001b[38;5;28;01mraise\u001b[39;00m ImproperlyConfigured(\n\u001b[32m     62\u001b[39m         \u001b[33m\"\u001b[39m\u001b[33mRequested \u001b[39m\u001b[38;5;132;01m%s\u001b[39;00m\u001b[33m, but settings are not configured. \u001b[39m\u001b[33m\"\u001b[39m\n\u001b[32m     63\u001b[39m         \u001b[33m\"\u001b[39m\u001b[33mYou must either define the environment variable \u001b[39m\u001b[38;5;132;01m%s\u001b[39;00m\u001b[33m \u001b[39m\u001b[33m\"\u001b[39m\n\u001b[32m     64\u001b[39m         \u001b[33m\"\u001b[39m\u001b[33mor call settings.configure() before accessing settings.\u001b[39m\u001b[33m\"\u001b[39m\n\u001b[32m     65\u001b[39m         % (desc, ENVIRONMENT_VARIABLE)\n\u001b[32m     66\u001b[39m     )\n\u001b[32m---> \u001b[39m\u001b[32m68\u001b[39m \u001b[38;5;28mself\u001b[39m._wrapped = \u001b[43mSettings\u001b[49m\u001b[43m(\u001b[49m\u001b[43msettings_module\u001b[49m\u001b[43m)\u001b[49m\n",
      "\u001b[36mFile \u001b[39m\u001b[32mc:\\Users\\main\\Documents\\Shop\\shopvenv\\Lib\\site-packages\\django\\conf\\__init__.py:166\u001b[39m, in \u001b[36mSettings.__init__\u001b[39m\u001b[34m(self, settings_module)\u001b[39m\n\u001b[32m    163\u001b[39m \u001b[38;5;66;03m# store the settings module in case someone later cares\u001b[39;00m\n\u001b[32m    164\u001b[39m \u001b[38;5;28mself\u001b[39m.SETTINGS_MODULE = settings_module\n\u001b[32m--> \u001b[39m\u001b[32m166\u001b[39m mod = \u001b[43mimportlib\u001b[49m\u001b[43m.\u001b[49m\u001b[43mimport_module\u001b[49m\u001b[43m(\u001b[49m\u001b[38;5;28;43mself\u001b[39;49m\u001b[43m.\u001b[49m\u001b[43mSETTINGS_MODULE\u001b[49m\u001b[43m)\u001b[49m\n\u001b[32m    168\u001b[39m tuple_settings = (\n\u001b[32m    169\u001b[39m     \u001b[33m\"\u001b[39m\u001b[33mALLOWED_HOSTS\u001b[39m\u001b[33m\"\u001b[39m,\n\u001b[32m    170\u001b[39m     \u001b[33m\"\u001b[39m\u001b[33mINSTALLED_APPS\u001b[39m\u001b[33m\"\u001b[39m,\n\u001b[32m   (...)\u001b[39m\u001b[32m    173\u001b[39m     \u001b[33m\"\u001b[39m\u001b[33mSECRET_KEY_FALLBACKS\u001b[39m\u001b[33m\"\u001b[39m,\n\u001b[32m    174\u001b[39m )\n\u001b[32m    175\u001b[39m \u001b[38;5;28mself\u001b[39m._explicit_settings = \u001b[38;5;28mset\u001b[39m()\n",
      "\u001b[36mFile \u001b[39m\u001b[32mC:\\Program Files\\Python312\\Lib\\importlib\\__init__.py:90\u001b[39m, in \u001b[36mimport_module\u001b[39m\u001b[34m(name, package)\u001b[39m\n\u001b[32m     88\u001b[39m             \u001b[38;5;28;01mbreak\u001b[39;00m\n\u001b[32m     89\u001b[39m         level += \u001b[32m1\u001b[39m\n\u001b[32m---> \u001b[39m\u001b[32m90\u001b[39m \u001b[38;5;28;01mreturn\u001b[39;00m \u001b[43m_bootstrap\u001b[49m\u001b[43m.\u001b[49m\u001b[43m_gcd_import\u001b[49m\u001b[43m(\u001b[49m\u001b[43mname\u001b[49m\u001b[43m[\u001b[49m\u001b[43mlevel\u001b[49m\u001b[43m:\u001b[49m\u001b[43m]\u001b[49m\u001b[43m,\u001b[49m\u001b[43m \u001b[49m\u001b[43mpackage\u001b[49m\u001b[43m,\u001b[49m\u001b[43m \u001b[49m\u001b[43mlevel\u001b[49m\u001b[43m)\u001b[49m\n",
      "\u001b[36mFile \u001b[39m\u001b[32m<frozen importlib._bootstrap>:1387\u001b[39m, in \u001b[36m_gcd_import\u001b[39m\u001b[34m(name, package, level)\u001b[39m\n",
      "\u001b[36mFile \u001b[39m\u001b[32m<frozen importlib._bootstrap>:1360\u001b[39m, in \u001b[36m_find_and_load\u001b[39m\u001b[34m(name, import_)\u001b[39m\n",
      "\u001b[36mFile \u001b[39m\u001b[32m<frozen importlib._bootstrap>:1310\u001b[39m, in \u001b[36m_find_and_load_unlocked\u001b[39m\u001b[34m(name, import_)\u001b[39m\n",
      "\u001b[36mFile \u001b[39m\u001b[32m<frozen importlib._bootstrap>:488\u001b[39m, in \u001b[36m_call_with_frames_removed\u001b[39m\u001b[34m(f, *args, **kwds)\u001b[39m\n",
      "\u001b[36mFile \u001b[39m\u001b[32m<frozen importlib._bootstrap>:1387\u001b[39m, in \u001b[36m_gcd_import\u001b[39m\u001b[34m(name, package, level)\u001b[39m\n",
      "\u001b[36mFile \u001b[39m\u001b[32m<frozen importlib._bootstrap>:1360\u001b[39m, in \u001b[36m_find_and_load\u001b[39m\u001b[34m(name, import_)\u001b[39m\n",
      "\u001b[36mFile \u001b[39m\u001b[32m<frozen importlib._bootstrap>:1324\u001b[39m, in \u001b[36m_find_and_load_unlocked\u001b[39m\u001b[34m(name, import_)\u001b[39m\n",
      "\u001b[31mModuleNotFoundError\u001b[39m: No module named 'shopbot'"
     ]
    }
   ],
   "source": [
    "add"
   ]
  }
 ],
 "metadata": {
  "kernelspec": {
   "display_name": "shopvenv",
   "language": "python",
   "name": "python3"
  },
  "language_info": {
   "codemirror_mode": {
    "name": "ipython",
    "version": 3
   },
   "file_extension": ".py",
   "mimetype": "text/x-python",
   "name": "python",
   "nbconvert_exporter": "python",
   "pygments_lexer": "ipython3",
   "version": "3.12.9"
  }
 },
 "nbformat": 4,
 "nbformat_minor": 5
}
